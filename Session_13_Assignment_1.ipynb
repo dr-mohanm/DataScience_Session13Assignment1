{
 "cells": [
  {
   "cell_type": "code",
   "execution_count": 1,
   "metadata": {},
   "outputs": [],
   "source": [
    "import numpy as np\n",
    "import pandas as pd\n",
    "import sqlite3\n",
    "from IPython.display import display"
   ]
  },
  {
   "cell_type": "code",
   "execution_count": 2,
   "metadata": {},
   "outputs": [
    {
     "data": {
      "text/html": [
       "<div>\n",
       "<style scoped>\n",
       "    .dataframe tbody tr th:only-of-type {\n",
       "        vertical-align: middle;\n",
       "    }\n",
       "\n",
       "    .dataframe tbody tr th {\n",
       "        vertical-align: top;\n",
       "    }\n",
       "\n",
       "    .dataframe thead th {\n",
       "        text-align: right;\n",
       "    }\n",
       "</style>\n",
       "<table border=\"1\" class=\"dataframe\">\n",
       "  <thead>\n",
       "    <tr style=\"text-align: right;\">\n",
       "      <th></th>\n",
       "      <th>0</th>\n",
       "      <th>1</th>\n",
       "      <th>2</th>\n",
       "      <th>3</th>\n",
       "      <th>4</th>\n",
       "      <th>5</th>\n",
       "      <th>6</th>\n",
       "      <th>7</th>\n",
       "      <th>8</th>\n",
       "      <th>9</th>\n",
       "      <th>10</th>\n",
       "      <th>11</th>\n",
       "      <th>12</th>\n",
       "      <th>13</th>\n",
       "      <th>14</th>\n",
       "    </tr>\n",
       "  </thead>\n",
       "  <tbody>\n",
       "    <tr>\n",
       "      <th>0</th>\n",
       "      <td>39</td>\n",
       "      <td>State-gov</td>\n",
       "      <td>77516</td>\n",
       "      <td>Bachelors</td>\n",
       "      <td>13</td>\n",
       "      <td>Never-married</td>\n",
       "      <td>Adm-clerical</td>\n",
       "      <td>Not-in-family</td>\n",
       "      <td>White</td>\n",
       "      <td>Male</td>\n",
       "      <td>2174</td>\n",
       "      <td>0</td>\n",
       "      <td>40</td>\n",
       "      <td>United-States</td>\n",
       "      <td>&lt;=50K</td>\n",
       "    </tr>\n",
       "    <tr>\n",
       "      <th>1</th>\n",
       "      <td>50</td>\n",
       "      <td>Self-emp-not-inc</td>\n",
       "      <td>83311</td>\n",
       "      <td>Bachelors</td>\n",
       "      <td>13</td>\n",
       "      <td>Married-civ-spouse</td>\n",
       "      <td>Exec-managerial</td>\n",
       "      <td>Husband</td>\n",
       "      <td>White</td>\n",
       "      <td>Male</td>\n",
       "      <td>0</td>\n",
       "      <td>0</td>\n",
       "      <td>13</td>\n",
       "      <td>United-States</td>\n",
       "      <td>&lt;=50K</td>\n",
       "    </tr>\n",
       "    <tr>\n",
       "      <th>2</th>\n",
       "      <td>38</td>\n",
       "      <td>Private</td>\n",
       "      <td>215646</td>\n",
       "      <td>HS-grad</td>\n",
       "      <td>9</td>\n",
       "      <td>Divorced</td>\n",
       "      <td>Handlers-cleaners</td>\n",
       "      <td>Not-in-family</td>\n",
       "      <td>White</td>\n",
       "      <td>Male</td>\n",
       "      <td>0</td>\n",
       "      <td>0</td>\n",
       "      <td>40</td>\n",
       "      <td>United-States</td>\n",
       "      <td>&lt;=50K</td>\n",
       "    </tr>\n",
       "    <tr>\n",
       "      <th>3</th>\n",
       "      <td>53</td>\n",
       "      <td>Private</td>\n",
       "      <td>234721</td>\n",
       "      <td>11th</td>\n",
       "      <td>7</td>\n",
       "      <td>Married-civ-spouse</td>\n",
       "      <td>Handlers-cleaners</td>\n",
       "      <td>Husband</td>\n",
       "      <td>Black</td>\n",
       "      <td>Male</td>\n",
       "      <td>0</td>\n",
       "      <td>0</td>\n",
       "      <td>40</td>\n",
       "      <td>United-States</td>\n",
       "      <td>&lt;=50K</td>\n",
       "    </tr>\n",
       "    <tr>\n",
       "      <th>4</th>\n",
       "      <td>28</td>\n",
       "      <td>Private</td>\n",
       "      <td>338409</td>\n",
       "      <td>Bachelors</td>\n",
       "      <td>13</td>\n",
       "      <td>Married-civ-spouse</td>\n",
       "      <td>Prof-specialty</td>\n",
       "      <td>Wife</td>\n",
       "      <td>Black</td>\n",
       "      <td>Female</td>\n",
       "      <td>0</td>\n",
       "      <td>0</td>\n",
       "      <td>40</td>\n",
       "      <td>Cuba</td>\n",
       "      <td>&lt;=50K</td>\n",
       "    </tr>\n",
       "  </tbody>\n",
       "</table>\n",
       "</div>"
      ],
      "text/plain": [
       "   0                  1       2           3   4                    5   \\\n",
       "0  39          State-gov   77516   Bachelors  13        Never-married   \n",
       "1  50   Self-emp-not-inc   83311   Bachelors  13   Married-civ-spouse   \n",
       "2  38            Private  215646     HS-grad   9             Divorced   \n",
       "3  53            Private  234721        11th   7   Married-civ-spouse   \n",
       "4  28            Private  338409   Bachelors  13   Married-civ-spouse   \n",
       "\n",
       "                   6               7       8        9     10  11  12  \\\n",
       "0        Adm-clerical   Not-in-family   White     Male  2174   0  40   \n",
       "1     Exec-managerial         Husband   White     Male     0   0  13   \n",
       "2   Handlers-cleaners   Not-in-family   White     Male     0   0  40   \n",
       "3   Handlers-cleaners         Husband   Black     Male     0   0  40   \n",
       "4      Prof-specialty            Wife   Black   Female     0   0  40   \n",
       "\n",
       "               13      14  \n",
       "0   United-States   <=50K  \n",
       "1   United-States   <=50K  \n",
       "2   United-States   <=50K  \n",
       "3   United-States   <=50K  \n",
       "4            Cuba   <=50K  "
      ]
     },
     "metadata": {},
     "output_type": "display_data"
    }
   ],
   "source": [
    "# Read the following data set: https://archive.ics.uci.edu/ml/machine-learning-databases/adult/adult.data\n",
    "adultdata_df = pd.read_csv('https://archive.ics.uci.edu/ml/machine-learning-databases/adult/adult.data',header=None)\n",
    "display(adultdata_df.head())"
   ]
  },
  {
   "cell_type": "code",
   "execution_count": 3,
   "metadata": {},
   "outputs": [
    {
     "data": {
      "text/html": [
       "<div>\n",
       "<style scoped>\n",
       "    .dataframe tbody tr th:only-of-type {\n",
       "        vertical-align: middle;\n",
       "    }\n",
       "\n",
       "    .dataframe tbody tr th {\n",
       "        vertical-align: top;\n",
       "    }\n",
       "\n",
       "    .dataframe thead th {\n",
       "        text-align: right;\n",
       "    }\n",
       "</style>\n",
       "<table border=\"1\" class=\"dataframe\">\n",
       "  <thead>\n",
       "    <tr style=\"text-align: right;\">\n",
       "      <th></th>\n",
       "      <th>age</th>\n",
       "      <th>workclass</th>\n",
       "      <th>fnlwgt</th>\n",
       "      <th>education</th>\n",
       "      <th>education-num</th>\n",
       "      <th>marital-status</th>\n",
       "      <th>occupation</th>\n",
       "      <th>relationship</th>\n",
       "      <th>race</th>\n",
       "      <th>sex</th>\n",
       "      <th>capital-gain</th>\n",
       "      <th>capital-loss</th>\n",
       "      <th>hours-per-week</th>\n",
       "      <th>native-country</th>\n",
       "      <th>income</th>\n",
       "    </tr>\n",
       "  </thead>\n",
       "  <tbody>\n",
       "    <tr>\n",
       "      <th>0</th>\n",
       "      <td>39</td>\n",
       "      <td>State-gov</td>\n",
       "      <td>77516</td>\n",
       "      <td>Bachelors</td>\n",
       "      <td>13</td>\n",
       "      <td>Never-married</td>\n",
       "      <td>Adm-clerical</td>\n",
       "      <td>Not-in-family</td>\n",
       "      <td>White</td>\n",
       "      <td>Male</td>\n",
       "      <td>2174</td>\n",
       "      <td>0</td>\n",
       "      <td>40</td>\n",
       "      <td>United-States</td>\n",
       "      <td>&lt;=50K</td>\n",
       "    </tr>\n",
       "    <tr>\n",
       "      <th>1</th>\n",
       "      <td>50</td>\n",
       "      <td>Self-emp-not-inc</td>\n",
       "      <td>83311</td>\n",
       "      <td>Bachelors</td>\n",
       "      <td>13</td>\n",
       "      <td>Married-civ-spouse</td>\n",
       "      <td>Exec-managerial</td>\n",
       "      <td>Husband</td>\n",
       "      <td>White</td>\n",
       "      <td>Male</td>\n",
       "      <td>0</td>\n",
       "      <td>0</td>\n",
       "      <td>13</td>\n",
       "      <td>United-States</td>\n",
       "      <td>&lt;=50K</td>\n",
       "    </tr>\n",
       "    <tr>\n",
       "      <th>2</th>\n",
       "      <td>38</td>\n",
       "      <td>Private</td>\n",
       "      <td>215646</td>\n",
       "      <td>HS-grad</td>\n",
       "      <td>9</td>\n",
       "      <td>Divorced</td>\n",
       "      <td>Handlers-cleaners</td>\n",
       "      <td>Not-in-family</td>\n",
       "      <td>White</td>\n",
       "      <td>Male</td>\n",
       "      <td>0</td>\n",
       "      <td>0</td>\n",
       "      <td>40</td>\n",
       "      <td>United-States</td>\n",
       "      <td>&lt;=50K</td>\n",
       "    </tr>\n",
       "    <tr>\n",
       "      <th>3</th>\n",
       "      <td>53</td>\n",
       "      <td>Private</td>\n",
       "      <td>234721</td>\n",
       "      <td>11th</td>\n",
       "      <td>7</td>\n",
       "      <td>Married-civ-spouse</td>\n",
       "      <td>Handlers-cleaners</td>\n",
       "      <td>Husband</td>\n",
       "      <td>Black</td>\n",
       "      <td>Male</td>\n",
       "      <td>0</td>\n",
       "      <td>0</td>\n",
       "      <td>40</td>\n",
       "      <td>United-States</td>\n",
       "      <td>&lt;=50K</td>\n",
       "    </tr>\n",
       "    <tr>\n",
       "      <th>4</th>\n",
       "      <td>28</td>\n",
       "      <td>Private</td>\n",
       "      <td>338409</td>\n",
       "      <td>Bachelors</td>\n",
       "      <td>13</td>\n",
       "      <td>Married-civ-spouse</td>\n",
       "      <td>Prof-specialty</td>\n",
       "      <td>Wife</td>\n",
       "      <td>Black</td>\n",
       "      <td>Female</td>\n",
       "      <td>0</td>\n",
       "      <td>0</td>\n",
       "      <td>40</td>\n",
       "      <td>Cuba</td>\n",
       "      <td>&lt;=50K</td>\n",
       "    </tr>\n",
       "  </tbody>\n",
       "</table>\n",
       "</div>"
      ],
      "text/plain": [
       "   age          workclass  fnlwgt   education  education-num  \\\n",
       "0   39          State-gov   77516   Bachelors             13   \n",
       "1   50   Self-emp-not-inc   83311   Bachelors             13   \n",
       "2   38            Private  215646     HS-grad              9   \n",
       "3   53            Private  234721        11th              7   \n",
       "4   28            Private  338409   Bachelors             13   \n",
       "\n",
       "        marital-status          occupation    relationship    race      sex  \\\n",
       "0        Never-married        Adm-clerical   Not-in-family   White     Male   \n",
       "1   Married-civ-spouse     Exec-managerial         Husband   White     Male   \n",
       "2             Divorced   Handlers-cleaners   Not-in-family   White     Male   \n",
       "3   Married-civ-spouse   Handlers-cleaners         Husband   Black     Male   \n",
       "4   Married-civ-spouse      Prof-specialty            Wife   Black   Female   \n",
       "\n",
       "   capital-gain  capital-loss  hours-per-week  native-country  income  \n",
       "0          2174             0              40   United-States   <=50K  \n",
       "1             0             0              13   United-States   <=50K  \n",
       "2             0             0              40   United-States   <=50K  \n",
       "3             0             0              40   United-States   <=50K  \n",
       "4             0             0              40            Cuba   <=50K  "
      ]
     },
     "metadata": {},
     "output_type": "display_data"
    }
   ],
   "source": [
    "# Rename the columns as per the description from the below file/URL:\n",
    "# Name the columns as per the file https://archive.ics.uci.edu/ml/machine-learning-databases/adult/adult.names\n",
    "adultdata_df.columns =[\"age\",\"workclass\",\"fnlwgt\",\"education\",\"education-num\",\"marital-status\",\"occupation\",\"relationship\",\n",
    "                       \"race\",\"sex\",\"capital-gain\",\"capital-loss\",\"hours-per-week\",\"native-country\",\"income\"]\n",
    "display(adultdata_df.head())"
   ]
  },
  {
   "cell_type": "code",
   "execution_count": 4,
   "metadata": {},
   "outputs": [
    {
     "data": {
      "text/plain": [
       "(32561, 15)"
      ]
     },
     "execution_count": 4,
     "metadata": {},
     "output_type": "execute_result"
    }
   ],
   "source": [
    "adultdata_df.shape"
   ]
  },
  {
   "cell_type": "code",
   "execution_count": 5,
   "metadata": {},
   "outputs": [],
   "source": [
    "# 1.  Create an sqlalchemy engine using a sample from the data set\n",
    "import sqlalchemy\n",
    "from sqlalchemy import create_engine\n",
    "\n",
    "engine = create_engine('sqlite:///sqladb1', echo=False)\n",
    "adultdata_df.to_sql('sqladb1', engine, if_exists='replace')\n",
    "conn  = sqlite3.connect(\"sqladb1\")\n",
    "cur = conn.cursor()"
   ]
  },
  {
   "cell_type": "code",
   "execution_count": 6,
   "metadata": {},
   "outputs": [
    {
     "name": "stdout",
     "output_type": "stream",
     "text": [
      " First basic update query: \n",
      " *************************\n",
      " \n",
      " Values before update: \n",
      " ---------------------\n",
      "   index  age          workclass  fnlwgt     education  education-num  \\\n",
      "0      1   50   Self-emp-not-inc   83311     Bachelors             13   \n",
      "1  16474   54   Self-emp-not-inc   83311   Prof-school             15   \n",
      "\n",
      "        marital-status        occupation relationship    race    sex  \\\n",
      "0   Married-civ-spouse   Exec-managerial      Husband   White   Male   \n",
      "1   Married-civ-spouse    Prof-specialty      Husband   White   Male   \n",
      "\n",
      "   capital-gain  capital-loss  hours-per-week  native-country  income  \n",
      "0             0             0              13   United-States   <=50K  \n",
      "1             0             0              30   United-States    >50K  \n",
      "\n",
      "\n",
      " Values after update: \n",
      " --------------------\n",
      "   index  age          workclass  fnlwgt     education  education-num  \\\n",
      "0  16474   54   Self-emp-not-inc   83311   Prof-school             15   \n",
      "\n",
      "        marital-status       occupation relationship    race    sex  \\\n",
      "0   Married-civ-spouse   Prof-specialty      Husband   White   Male   \n",
      "\n",
      "   capital-gain  capital-loss  hours-per-week  native-country income  \n",
      "0             0             0              30   United-States   >50K  \n"
     ]
    }
   ],
   "source": [
    "# 2.  Write two basic update queries\n",
    "print(' First basic update query: \\n', '*'*25)\n",
    "print(' \\n Values before update: \\n', '-'*21)\n",
    "print(pd.read_sql_query('SELECT * FROM sqladb1 WHERE fnlwgt = \"83311\"', conn).head())\n",
    "cur.execute('UPDATE sqladb1 SET fnlwgt = \"83312\" WHERE fnlwgt = \"83311\" and \"education-num\" = \"13\"')\n",
    "print('\\n\\n Values after update: \\n', '-'*20)\n",
    "print(pd.read_sql_query('SELECT * FROM sqladb1 WHERE fnlwgt = \"83311\"', conn).head())"
   ]
  },
  {
   "cell_type": "code",
   "execution_count": 7,
   "metadata": {},
   "outputs": [
    {
     "name": "stdout",
     "output_type": "stream",
     "text": [
      " Second basic update query: \n",
      " *************************\n",
      " \n",
      " Values before update for workclass = \" ?\": \n",
      " ---------------------\n",
      "   count(*)\n",
      "0      1836\n",
      "\n",
      "\n",
      " Values after update for workclass = \" ?\": \n",
      " --------------------\n",
      "   count(*)\n",
      "0         0\n",
      "\n",
      "\n",
      " Values after update for workclass = \" Other\": \n",
      " --------------------\n",
      "   count(*)\n",
      "0      1836\n"
     ]
    }
   ],
   "source": [
    "# 2.  Write two basic update queries\n",
    "print(' Second basic update query: \\n', '*'*25)\n",
    "print(' \\n Values before update for workclass = \" ?\": \\n', '-'*21)\n",
    "print(pd.read_sql_query('SELECT count(*) FROM sqladb1 WHERE workclass = \" ?\"', conn).head())\n",
    "cur.execute('UPDATE sqladb1 SET workclass = \" Other\" WHERE workclass = \" ?\"')\n",
    "print('\\n\\n Values after update for workclass = \" ?\": \\n', '-'*20)\n",
    "print(pd.read_sql_query('SELECT count(*) FROM sqladb1 WHERE workclass = \" ?\"', conn).head())\n",
    "print('\\n\\n Values after update for workclass = \" Other\": \\n', '-'*20)\n",
    "print(pd.read_sql_query('SELECT count(*) FROM sqladb1 WHERE workclass = \" Other\"', conn).head())"
   ]
  },
  {
   "cell_type": "code",
   "execution_count": 8,
   "metadata": {},
   "outputs": [
    {
     "name": "stdout",
     "output_type": "stream",
     "text": [
      " First delete query: \n",
      " *************************\n",
      " \n",
      " Values before delete: \n",
      " ---------------------\n",
      "   count(*)\n",
      "0      1645\n",
      "\n",
      "\n",
      " Values after delete: \n",
      " --------------------\n",
      "   count(*)\n",
      "0         0\n"
     ]
    }
   ],
   "source": [
    "# 3.  Write two delete queries \n",
    "print(' First delete query: \\n', '*'*25)\n",
    "print(' \\n Values before delete: \\n', '-'*21)\n",
    "print(pd.read_sql_query('SELECT count(*) FROM sqladb1 where workclass = \" Other\" and income = \" <=50K\"', conn).head())\n",
    "cur.execute('DELETE from sqladb1 where workclass = \" Other\" and income = \" <=50K\"')\n",
    "print('\\n\\n Values after delete: \\n', '-'*20)\n",
    "print(pd.read_sql_query('SELECT count(*) FROM sqladb1 where workclass = \" Other\" and income = \" <=50K\"', conn).head())"
   ]
  },
  {
   "cell_type": "code",
   "execution_count": 9,
   "metadata": {},
   "outputs": [
    {
     "name": "stdout",
     "output_type": "stream",
     "text": [
      " Second delete query: \n",
      " *************************\n",
      " \n",
      " Values before delete: \n",
      " ---------------------\n",
      "   count(*)\n",
      "0       191\n",
      "\n",
      "\n",
      " Values after delete: \n",
      " --------------------\n",
      "   count(*)\n",
      "0         0\n"
     ]
    }
   ],
   "source": [
    "# 3.  Write two delete queries \n",
    "print(' Second delete query: \\n', '*'*25)\n",
    "print(' \\n Values before delete: \\n', '-'*21)\n",
    "print(pd.read_sql_query('SELECT count(*) FROM sqladb1 where workclass = \" Other\"', conn).head())\n",
    "cur.execute('DELETE from sqladb1 where workclass = \" Other\"')\n",
    "print('\\n\\n Values after delete: \\n', '-'*20)\n",
    "print(pd.read_sql_query('SELECT count(*) FROM sqladb1 where workclass = \" Other\"', conn).head())"
   ]
  },
  {
   "cell_type": "code",
   "execution_count": 10,
   "metadata": {},
   "outputs": [
    {
     "name": "stdout",
     "output_type": "stream",
     "text": [
      " First filter query: \n",
      " *************************\n",
      "   index  age          workclass  fnlwgt education  education-num  \\\n",
      "0   7135   21            Private   99199   HS-grad              9   \n",
      "1   9923   22            Private   99199   HS-grad              9   \n",
      "2  17431   21   Self-emp-not-inc   99199   HS-grad              9   \n",
      "3  26933   21        Federal-gov   99199   HS-grad              9   \n",
      "\n",
      "        marital-status          occupation relationship    race    sex  \\\n",
      "0        Never-married   Machine-op-inspct    Own-child   White   Male   \n",
      "1   Married-civ-spouse     Exec-managerial      Husband   White   Male   \n",
      "2   Married-civ-spouse        Craft-repair      Husband   White   Male   \n",
      "3        Never-married        Adm-clerical    Own-child   White   Male   \n",
      "\n",
      "   capital-gain  capital-loss  hours-per-week  native-country  income  \n",
      "0             0             0              32   United-States   <=50K  \n",
      "1             0             0              48   United-States   <=50K  \n",
      "2             0             0              40   United-States   <=50K  \n",
      "3             0             0              36   United-States   <=50K  \n"
     ]
    }
   ],
   "source": [
    "# 4.  Write two filter queries \n",
    "print(' First filter query: \\n', '*'*25)\n",
    "print(pd.read_sql_query('SELECT * from sqladb1 WHERE fnlwgt = \"99199\" and \"education-num\" = \"9\"', conn).head())"
   ]
  },
  {
   "cell_type": "code",
   "execution_count": 11,
   "metadata": {},
   "outputs": [
    {
     "name": "stdout",
     "output_type": "stream",
     "text": [
      " Second filter query: \n",
      " *************************\n",
      "   index  age workclass  fnlwgt education  education-num  marital-status  \\\n",
      "0      8   31   Private   45781   Masters             14   Never-married   \n",
      "1    661   35   Private  261293   Masters             14   Never-married   \n",
      "2    696   35   Private  203628   Masters             14   Never-married   \n",
      "3    821   31   Private  171871   Masters             14   Never-married   \n",
      "4   1240   35   Private   33975   Masters             14   Never-married   \n",
      "\n",
      "        occupation    relationship    race      sex  capital-gain  \\\n",
      "0   Prof-specialty   Not-in-family   White   Female         14084   \n",
      "1            Sales   Not-in-family   White     Male             0   \n",
      "2   Prof-specialty   Not-in-family   White     Male             0   \n",
      "3   Prof-specialty   Not-in-family   White   Female             0   \n",
      "4   Prof-specialty   Not-in-family   White     Male             0   \n",
      "\n",
      "   capital-loss  hours-per-week  native-country  income  \n",
      "0             0              50   United-States    >50K  \n",
      "1             0              60   United-States   <=50K  \n",
      "2             0              60   United-States    >50K  \n",
      "3             0              46   United-States   <=50K  \n",
      "4             0              45   United-States    >50K  \n"
     ]
    }
   ],
   "source": [
    "# 4.  Write two filter queries \n",
    "print(' Second filter query: \\n', '*'*25)\n",
    "print(pd.read_sql_query('SELECT * from sqladb1 WHERE age between \"30\" and \"35\" and \"marital-status\" IN (\" Never-married\" , \\\n",
    "                        \" Unmarried\") and education = \" Masters\"', conn).head())\n",
    "cur.close()\n",
    "conn.close()"
   ]
  },
  {
   "cell_type": "code",
   "execution_count": 12,
   "metadata": {},
   "outputs": [],
   "source": [
    "conn  = sqlite3.connect(\"sqladb1\")\n",
    "cur = conn.cursor()"
   ]
  },
  {
   "cell_type": "code",
   "execution_count": 13,
   "metadata": {},
   "outputs": [
    {
     "data": {
      "text/plain": [
       "Table('sqladb1', MetaData(bind=None), Column('index', BIGINT(), table=<sqladb1>), Column('age', BIGINT(), table=<sqladb1>), Column('workclass', TEXT(), table=<sqladb1>), Column('fnlwgt', BIGINT(), table=<sqladb1>), Column('education', TEXT(), table=<sqladb1>), Column('education-num', BIGINT(), table=<sqladb1>), Column('marital-status', TEXT(), table=<sqladb1>), Column('occupation', TEXT(), table=<sqladb1>), Column('relationship', TEXT(), table=<sqladb1>), Column('race', TEXT(), table=<sqladb1>), Column('sex', TEXT(), table=<sqladb1>), Column('capital-gain', BIGINT(), table=<sqladb1>), Column('capital-loss', BIGINT(), table=<sqladb1>), Column('hours-per-week', BIGINT(), table=<sqladb1>), Column('native-country', TEXT(), table=<sqladb1>), Column('income', TEXT(), table=<sqladb1>), schema=None)"
      ]
     },
     "execution_count": 13,
     "metadata": {},
     "output_type": "execute_result"
    }
   ],
   "source": [
    "from sqlalchemy import Table, select, MetaData\n",
    "metadata = MetaData(bind = None)\n",
    "table = Table('sqladb1', metadata, autoload= True, autoload_with = engine)\n",
    "table"
   ]
  },
  {
   "cell_type": "code",
   "execution_count": 14,
   "metadata": {},
   "outputs": [
    {
     "name": "stdout",
     "output_type": "stream",
     "text": [
      " First function query \n",
      " ********************\n"
     ]
    },
    {
     "data": {
      "text/plain": [
       "(0, 39, ' State-gov', 77516, ' Bachelors', 13, ' Never-married', ' Adm-clerical', ' Not-in-family', ' White', ' Male', 2174, 0, 40, ' United-States', ' <=50K')"
      ]
     },
     "execution_count": 14,
     "metadata": {},
     "output_type": "execute_result"
    }
   ],
   "source": [
    "# 5.  Write two function queries\n",
    "print(' First function query \\n', '*'*20)\n",
    "select([table])\n",
    "engine.execute(select([table])).fetchone()"
   ]
  },
  {
   "cell_type": "code",
   "execution_count": 15,
   "metadata": {},
   "outputs": [],
   "source": [
    "from sqlalchemy.ext.declarative import declarative_base\n",
    "from sqlalchemy.orm import sessionmaker\n",
    "\n",
    "base = declarative_base()\n",
    "base.metadata.create_all(engine)\n",
    "Session = sessionmaker(bind=engine)\n",
    "session = Session()"
   ]
  },
  {
   "cell_type": "code",
   "execution_count": 16,
   "metadata": {},
   "outputs": [
    {
     "name": "stdout",
     "output_type": "stream",
     "text": [
      " Second function query \n",
      " *********************\n"
     ]
    },
    {
     "data": {
      "text/plain": [
       "[(7131,\n",
       "  28,\n",
       "  ' Private',\n",
       "  224634,\n",
       "  ' Bachelors',\n",
       "  13,\n",
       "  ' Married-civ-spouse',\n",
       "  ' Prof-specialty',\n",
       "  ' Wife',\n",
       "  ' White',\n",
       "  ' Female',\n",
       "  0,\n",
       "  0,\n",
       "  45,\n",
       "  ' United-States',\n",
       "  ' >50K')]"
      ]
     },
     "execution_count": 16,
     "metadata": {},
     "output_type": "execute_result"
    }
   ],
   "source": [
    "print(' Second function query \\n', '*'*21)\n",
    "select([table])\n",
    "session.query(table).filter(table.columns.fnlwgt == \"224634\").all()"
   ]
  },
  {
   "cell_type": "code",
   "execution_count": 17,
   "metadata": {},
   "outputs": [
    {
     "name": "stdout",
     "output_type": "stream",
     "text": [
      " Writing own insert function query \n",
      " *************************************************\n",
      "Inserted 1 new row\n"
     ]
    }
   ],
   "source": [
    "print(' Writing own insert function query \\n', '*'*49)\n",
    "def new_entry(db_file, new_data):\n",
    "    query = \"INSERT INTO sqladb1 VALUES (?, ?, ?, ?, ?, ?, ?, ?, ?, ?, ?, ?, ?, ?, ?, ?);\"\n",
    "    cur.execute(query, list(new_data))\n",
    "    print('Inserted 1 new row')\n",
    "\n",
    "new_entry('sqladb',('32660', '30','Private', '7861369', 'Masters', '9', 'Married', 'Front_End', 'In_Family', \n",
    "                    'Indian', 'Male', '0', '0', '40', 'United-States', '>=50K'))"
   ]
  },
  {
   "cell_type": "code",
   "execution_count": 18,
   "metadata": {},
   "outputs": [
    {
     "name": "stdout",
     "output_type": "stream",
     "text": [
      " Writing own select function query \n",
      " *************************************************\n",
      "[(32660, 30, 'Private', 7861369, 'Masters', 9, 'Married', 'Front_End', 'In_Family', 'Indian', 'Male', 0, 0, 40, 'United-States', '>=50K')]\n"
     ]
    }
   ],
   "source": [
    "print(' Writing own select function query \\n', '*'*49)\n",
    "def age_check():\n",
    "    cur1 = cur.execute('SELECT * from sqladb1 WHERE fnlwgt = \"7861369\"')\n",
    "    output = cur1.fetchall()\n",
    "    print(output)    \n",
    "    \n",
    "age_check()"
   ]
  },
  {
   "cell_type": "code",
   "execution_count": 19,
   "metadata": {},
   "outputs": [],
   "source": [
    "cur.close()\n",
    "conn.close()"
   ]
  },
  {
   "cell_type": "code",
   "execution_count": null,
   "metadata": {},
   "outputs": [],
   "source": []
  }
 ],
 "metadata": {
  "kernelspec": {
   "display_name": "Python 3",
   "language": "python",
   "name": "python3"
  },
  "language_info": {
   "codemirror_mode": {
    "name": "ipython",
    "version": 3
   },
   "file_extension": ".py",
   "mimetype": "text/x-python",
   "name": "python",
   "nbconvert_exporter": "python",
   "pygments_lexer": "ipython3",
   "version": "3.6.6"
  }
 },
 "nbformat": 4,
 "nbformat_minor": 2
}
